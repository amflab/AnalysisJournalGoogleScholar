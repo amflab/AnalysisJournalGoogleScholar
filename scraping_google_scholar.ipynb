{
  "nbformat": 4,
  "nbformat_minor": 0,
  "metadata": {
    "colab": {
      "name": "scraping-google-scholar.ipynb",
      "provenance": [],
      "collapsed_sections": []
    },
    "kernelspec": {
      "name": "python3",
      "display_name": "Python 3"
    },
    "language_info": {
      "name": "python"
    }
  },
  "cells": [
    {
      "cell_type": "markdown",
      "source": [
        "# **Scrape Google Scholar**"
      ],
      "metadata": {
        "id": "2H1VKbLw6V8j"
      }
    },
    {
      "cell_type": "markdown",
      "source": [
        "## **Installation Libraries**"
      ],
      "metadata": {
        "id": "YjhyHKJV7FLj"
      }
    },
    {
      "cell_type": "code",
      "execution_count": null,
      "metadata": {
        "id": "qL37savI6PTB"
      },
      "outputs": [],
      "source": [
        "!pip install requests\n",
        "!pip install pandas\n",
        "!pip install matplotlib\n",
        "!pip install lxml \n",
        "!pip install beautifulsoup4\n",
        "!pip install google-search-results "
      ]
    },
    {
      "cell_type": "markdown",
      "source": [
        "## **Scraping**"
      ],
      "metadata": {
        "id": "_TLJ6On5akYg"
      }
    },
    {
      "cell_type": "code",
      "source": [
        "import requests as req, lxml, os, json\n",
        "from bs4 import BeautifulSoup\n",
        "import pandas as pd"
      ],
      "metadata": {
        "id": "1-DHVvOGaHKP"
      },
      "execution_count": null,
      "outputs": []
    },
    {
      "cell_type": "code",
      "source": [
        "urlScholarCode=\"qChltsQAAAAJ\"\n",
        "urlGoogleScholarProfile=\"https://scholar.google.co.id/citations?hl=en&user=\""
      ],
      "metadata": {
        "id": "HPru3PKg7E0E"
      },
      "execution_count": null,
      "outputs": []
    },
    {
      "cell_type": "code",
      "source": [
        "def get_headers():\n",
        "  return { \n",
        "    'User-agent':\"Mozilla/5.0 (Windows NT 10.0; Win64; x64) AppleWebKit/537.36 (KHTML, like Gecko) Chrome/70.0.3538.102 Safari/537.36 Edge/18.19582\"\n",
        "  }"
      ],
      "metadata": {
        "id": "SsXcIPRuZgMf"
      },
      "execution_count": null,
      "outputs": []
    },
    {
      "cell_type": "code",
      "source": [
        "def gs_parser(id_gs):\n",
        "  text = req.get(urlGoogleScholarProfile+id_gs, headers=get_headers()).text\n",
        "  soup = BeautifulSoup(text,'lxml')\n",
        "\n",
        "  gsProfile = {\n",
        "    'name':\"\",\n",
        "    'university':\"\",\n",
        "    'tags':[]\n",
        "  }\n",
        "\n",
        "  for profile in soup.select('#gsc_prf_w'):\n",
        "    name = profile.select_one('#gsc_prf_in').text\n",
        "    university = profile.select_one('.gsc_prf_il').text\n",
        "    \n",
        "    tags = []\n",
        "    for tag in soup.select('#gsc_prf_int a'):\n",
        "      tags.append(tag.text)\n",
        "  \n",
        "    gsProfile[\"name\"]=name\n",
        "    gsProfile[\"university\"]=university\n",
        "    gsProfile[\"tags\"]=tags\n",
        "\n",
        "  gsJournal = {\n",
        "    'row':[]\n",
        "  }\n",
        "  \n",
        "  rows = []\n",
        "  \n",
        "  rows = {\n",
        "    'title':[],\n",
        "    'link':[],\n",
        "    'authors':[],\n",
        "    'publisher':[],\n",
        "    'pub_year':[],\n",
        "    'cite':[],\n",
        "    'year':[]\n",
        "  }\n",
        "\n",
        "  for rowJournals in soup.select('#gsc_a_b'):\n",
        "\n",
        "    rowTitle = []\n",
        "    rowLink = []\n",
        "    rowAuthor = []\n",
        "    rowPublisher = []\n",
        "    rowPubYear = []\n",
        "\n",
        "    for listJournals in rowJournals.select('.gsc_a_t'):\n",
        "\n",
        "      rowTitle.append(listJournals.select_one('a').text)\n",
        "      rowLink.append(listJournals.select_one('a')['href'])\n",
        "      for index, authPub in enumerate(listJournals.select('.gs_gray')):\n",
        "        if index == 0:\n",
        "          rowAuthor.append([authPub.text])\n",
        "        else:\n",
        "          rowPublisher.append(authPub.text)\n",
        "      \n",
        "      rowPubYear.append(listJournals.select_one('.gs_oph').text.replace(', ',''))\n",
        "    \n",
        "    rowCite = []\n",
        "    for listCite in rowJournals.select('.gsc_a_c'):\n",
        "      rowCite.append(listCite.select_one('a').text)\n",
        "      \n",
        "    rowYear = []\n",
        "    for listYear in rowJournals.select('.gsc_a_y'):\n",
        "      rowYear.append(listYear.select_one('span').text)\n",
        "    \n",
        "    rows['title'] = rowTitle\n",
        "    rows['link'] = rowLink\n",
        "    rows['authors'] = rowAuthor\n",
        "    rows['publisher'] = rowPublisher\n",
        "    rows['pub_year'] = rowPubYear\n",
        "    rows['cite'] = rowCite\n",
        "    rows['year'] = rowYear\n",
        "\n",
        "  gsObject = {\n",
        "    'profile':{},\n",
        "    'journal':{}\n",
        "  }\n",
        "\n",
        "  gsObject['profile'] = gsProfile\n",
        "  gsObject['journal'] = rows\n",
        "\n",
        "  return gsObject\n"
      ],
      "metadata": {
        "id": "i9_uObGkvuTM"
      },
      "execution_count": null,
      "outputs": []
    },
    {
      "cell_type": "code",
      "source": [
        "def gs_parser_pandas(id_gs):\n",
        "  text = req.get(urlGoogleScholarProfile+id_gs, headers=get_headers()).text\n",
        "  \n",
        "  soup = BeautifulSoup(text,'lxml')\n",
        "  gsProfile = {\n",
        "    'name':\"\",\n",
        "    'university':\"\",\n",
        "    'tags':[]\n",
        "  }\n",
        "\n",
        "  for profile in soup.select('#gsc_prf_w'):\n",
        "    name = profile.select_one('#gsc_prf_in').text\n",
        "    university = profile.select_one('.gsc_prf_il').text\n",
        "    \n",
        "    tags = []\n",
        "    for tag in soup.select('#gsc_prf_int a'):\n",
        "      tags.append(tag.text)\n",
        "  \n",
        "    gsProfile[\"name\"]=name\n",
        "    gsProfile[\"university\"]=university\n",
        "    gsProfile[\"tags\"]=tags\n",
        "  \n",
        "  print(gsProfile)\n",
        "  \n",
        "  dfs = pd.read_html(text)\n",
        "  \n",
        "  for data in dfs:\n",
        "    print(data)"
      ],
      "metadata": {
        "id": "HKBv3CEFUmfs"
      },
      "execution_count": null,
      "outputs": []
    },
    {
      "cell_type": "code",
      "source": [
        "def scrape_google_scholar(idGoogleScholar):\n",
        "  print(gs_parser(idGoogleScholar))"
      ],
      "metadata": {
        "id": "_XfJbMJI6VcE"
      },
      "execution_count": null,
      "outputs": []
    },
    {
      "cell_type": "code",
      "source": [
        "import time\n",
        "\n",
        "startOne = time.time()\n",
        "scrape_google_scholar(urlScholarCode)\n",
        "endOne = time.time()\n",
        "\n",
        "startTwo = time.time()\n",
        "gs_parser_pandas(urlScholarCode)\n",
        "endTwo = time.time()\n",
        "\n",
        "print(\"soup : {}\".format(endOne - startOne))\n",
        "print(\"pandas : {}\".format(endTwo - startTwo))"
      ],
      "metadata": {
        "id": "S-uNVBhiyQYb",
        "colab": {
          "base_uri": "https://localhost:8080/"
        },
        "outputId": "f53776ad-20b7-49be-e2c2-8daf7b4ad3e0"
      },
      "execution_count": null,
      "outputs": [
        {
          "output_type": "stream",
          "name": "stdout",
          "text": [
            "{'profile': {'name': 'Marli Candra', 'university': 'UIN Sunan Ampel', 'tags': ['Victimology', 'Penology', 'Islamic Criminal Law']}, 'journal': {'title': ['Pengantar Studi Islam', 'Victim precipitation dalam Tindak Pidana Pencurian', 'The Penology of Islamic Criminal Law: Reintroduction of Islamic Penology', 'Tinjauan Viktimologi Terhadap Hak Perlindungan Penyalahgunaan Narkotika (Victimless Crime)', 'The Penology of Death Punishment (An Analytical Study Indonesian and Islamic Criminal Law)', 'Polarisasi berita bohong COVID-19: Viktimisasi kolektif', 'VICTIM PRECIPITATION DALAM TINDAK PIDANA PENCURIAN (SEBUAH PENDEKATAN VIKTIMOLOGI)', 'Urgensi DSN-MUI Sebagai Otoritas Pengawas Syariah Lembaga Keuangan Syariah', 'Tinjauan Filsafat Hukuman dalam Islam terhadap Overspel dan Zina', 'Limitation and Reduction Human Rights in Indonesia Through Substitute Government Regulations', 'Death penalty under hudud and qisas from modern penologys perspective'], 'link': ['/citations?view_op=view_citation&hl=en&user=qChltsQAAAAJ&citation_for_view=qChltsQAAAAJ:zYLM7Y9cAGgC', '/citations?view_op=view_citation&hl=en&user=qChltsQAAAAJ&citation_for_view=qChltsQAAAAJ:9yKSN-GCB0IC', '/citations?view_op=view_citation&hl=en&user=qChltsQAAAAJ&citation_for_view=qChltsQAAAAJ:d1gkVwhDpl0C', '/citations?view_op=view_citation&hl=en&user=qChltsQAAAAJ&citation_for_view=qChltsQAAAAJ:IjCSPb-OGe4C', '/citations?view_op=view_citation&hl=en&user=qChltsQAAAAJ&citation_for_view=qChltsQAAAAJ:W7OEmFMy1HYC', '/citations?view_op=view_citation&hl=en&user=qChltsQAAAAJ&citation_for_view=qChltsQAAAAJ:Tyk-4Ss8FVUC', '/citations?view_op=view_citation&hl=en&user=qChltsQAAAAJ&citation_for_view=qChltsQAAAAJ:Y0pCki6q_DkC', '/citations?view_op=view_citation&hl=en&user=qChltsQAAAAJ&citation_for_view=qChltsQAAAAJ:UeHWp8X0CEIC', '/citations?view_op=view_citation&hl=en&user=qChltsQAAAAJ&citation_for_view=qChltsQAAAAJ:YsMSGLbcyi4C', '/citations?view_op=view_citation&hl=en&user=qChltsQAAAAJ&citation_for_view=qChltsQAAAAJ:u-x6o8ySG0sC', '/citations?view_op=view_citation&hl=en&user=qChltsQAAAAJ&citation_for_view=qChltsQAAAAJ:u5HHmVD_uO8C'], 'authors': [['H Syafaq, A Tohari, NA Nadhifah, U Hanifah, M Candra'], ['I Rosyadi, M Candra, A Khaliq, M Syaifullah, AQ Hayya'], ['M Candra'], ['TN Hasan, M Candra'], ['M Candra'], ['M Candra, F Alifiana Nada'], ['M Candra, SH IMRON ROSYADI'], ['M Elpira, M Candra'], ['M Candra, NP Nadhiva'], ['M Candra, T Einstein, MI Helmi'], ['M Candra']], 'publisher': ['Nuwaila Ahsana, 2021', 'Duta Media, 2020', \"AL-'ADALAH 15 (2), 345-366, 2018\", 'PAMPAS: Journal of Criminal Law 2 (2), 89-103, 2021', '2nd International Conference in Humanity, Law and Sharia (ICHLaSh 2021\\xa0…, 2021', 'Jurnal Litigasi (e-Journal), 157-176, 2021', 'Duta Media Publishing, 2020', 'El-Qist: Journal of Islamic Economics and Business (JIEB) 10 (1), 22-38, 2020', 'Al-Jinayah: Jurnal Hukum Pidana Islam 6 (2), 450-476, 2020', 'Jurnal Cita Hukum 7 (2), 2019', 'Kuala Lumpur: Ahmad Ibrahim Kulliyyah of Laws, International Islamic\\xa0…, 2015'], 'pub_year': ['2021', '2020', '2018', '2021', '2021', '2021', '2020', '2020', '2020', '2019', '2015'], 'cite': ['29', '1', '1', '', '', '', '', '', '', '', ''], 'year': ['2021', '2020', '2018', '2021', '2021', '2021', '2020', '2020', '2020', '2019', '2015']}}\n",
            "{'name': 'Marli Candra', 'university': 'UIN Sunan Ampel', 'tags': ['Victimology', 'Penology', 'Islamic Criminal Law']}\n",
            "  Unnamed: 0  All  Since 2017\n",
            "0  Citations   31          30\n",
            "1    h-index    1           1\n",
            "2  i10-index    1           1\n",
            "   TitleSortSort by citationsSort by yearSort by title  Cited byCited by  Year\n",
            "0   Pengantar Studi IslamH Syafaq, A Tohari, NA Na...               29.0  2021\n",
            "1   Victim precipitation dalam Tindak Pidana Pencu...                1.0  2020\n",
            "2   The Penology of Islamic Criminal Law: Reintrod...                1.0  2018\n",
            "3   Tinjauan Viktimologi Terhadap Hak Perlindungan...                NaN  2021\n",
            "4   The Penology of Death Punishment (An Analytica...                NaN  2021\n",
            "5   Polarisasi berita bohong COVID-19: Viktimisasi...                NaN  2021\n",
            "6   VICTIM PRECIPITATION DALAM TINDAK PIDANA PENCU...                NaN  2020\n",
            "7   Urgensi DSN-MUI Sebagai Otoritas Pengawas Syar...                NaN  2020\n",
            "8   Tinjauan Filsafat Hukuman dalam Islam terhadap...                NaN  2020\n",
            "9   Limitation and Reduction Human Rights in Indon...                NaN  2019\n",
            "10  Death penalty under hudud and qisas from moder...                NaN  2015\n",
            "soup : 0.20866179466247559\n",
            "pandas : 0.36382436752319336\n"
          ]
        }
      ]
    },
    {
      "cell_type": "markdown",
      "source": [
        "## **Visualization**"
      ],
      "metadata": {
        "id": "Ur9hgtQ5aw3F"
      }
    },
    {
      "cell_type": "markdown",
      "source": [
        "## **Extracting**"
      ],
      "metadata": {
        "id": "HKgcOLfUaNqU"
      }
    }
  ]
}